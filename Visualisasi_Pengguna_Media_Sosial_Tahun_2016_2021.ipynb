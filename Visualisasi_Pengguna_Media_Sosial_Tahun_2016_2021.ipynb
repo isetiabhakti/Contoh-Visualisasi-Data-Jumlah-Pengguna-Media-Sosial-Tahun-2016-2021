{
 "cells": [
  {
   "cell_type": "code",
   "execution_count": 1,
   "metadata": {
    "colab": {
     "base_uri": "https://localhost:8080/",
     "height": 175
    },
    "id": "RattGCzDV_kb",
    "outputId": "9f633570-1d83-4cba-c87a-7de6f9e479a4"
   },
   "outputs": [
    {
     "data": {
      "text/html": [
       "<div>\n",
       "<style scoped>\n",
       "    .dataframe tbody tr th:only-of-type {\n",
       "        vertical-align: middle;\n",
       "    }\n",
       "\n",
       "    .dataframe tbody tr th {\n",
       "        vertical-align: top;\n",
       "    }\n",
       "\n",
       "    .dataframe thead th {\n",
       "        text-align: right;\n",
       "    }\n",
       "</style>\n",
       "<table border=\"1\" class=\"dataframe\">\n",
       "  <thead>\n",
       "    <tr style=\"text-align: right;\">\n",
       "      <th></th>\n",
       "      <th>Nama Media Sosial</th>\n",
       "      <th>2016</th>\n",
       "      <th>2017</th>\n",
       "      <th>2018</th>\n",
       "      <th>2019</th>\n",
       "      <th>2020</th>\n",
       "      <th>2021</th>\n",
       "    </tr>\n",
       "  </thead>\n",
       "  <tbody>\n",
       "    <tr>\n",
       "      <th>0</th>\n",
       "      <td>Pesbook</td>\n",
       "      <td>3160621</td>\n",
       "      <td>4972600</td>\n",
       "      <td>6032192</td>\n",
       "      <td>6238517</td>\n",
       "      <td>7717739</td>\n",
       "      <td>9267369</td>\n",
       "    </tr>\n",
       "    <tr>\n",
       "      <th>1</th>\n",
       "      <td>Twipper</td>\n",
       "      <td>2690893</td>\n",
       "      <td>3510296</td>\n",
       "      <td>5410189</td>\n",
       "      <td>6545644</td>\n",
       "      <td>7267665</td>\n",
       "      <td>8141159</td>\n",
       "    </tr>\n",
       "    <tr>\n",
       "      <th>2</th>\n",
       "      <td>Instagaram</td>\n",
       "      <td>2595067</td>\n",
       "      <td>3158446</td>\n",
       "      <td>4869826</td>\n",
       "      <td>5509957</td>\n",
       "      <td>6340562</td>\n",
       "      <td>8286373</td>\n",
       "    </tr>\n",
       "    <tr>\n",
       "      <th>3</th>\n",
       "      <td>Toktok</td>\n",
       "      <td>1877529</td>\n",
       "      <td>2398434</td>\n",
       "      <td>4742585</td>\n",
       "      <td>5527140</td>\n",
       "      <td>7853293</td>\n",
       "      <td>8644823</td>\n",
       "    </tr>\n",
       "  </tbody>\n",
       "</table>\n",
       "</div>"
      ],
      "text/plain": [
       "  Nama Media Sosial     2016     2017     2018     2019     2020     2021\n",
       "0           Pesbook  3160621  4972600  6032192  6238517  7717739  9267369\n",
       "1           Twipper  2690893  3510296  5410189  6545644  7267665  8141159\n",
       "2        Instagaram  2595067  3158446  4869826  5509957  6340562  8286373\n",
       "3            Toktok  1877529  2398434  4742585  5527140  7853293  8644823"
      ]
     },
     "execution_count": 1,
     "metadata": {},
     "output_type": "execute_result"
    }
   ],
   "source": [
    "import pandas as pd\n",
    "dataset = pd.read_csv(\"Dummy_Data_Pengguna_Media_Sosial_2016-2021.csv\")\n",
    "dataset"
   ]
  },
  {
   "cell_type": "code",
   "execution_count": 2,
   "metadata": {
    "colab": {
     "base_uri": "https://localhost:8080/"
    },
    "id": "gUmL9KaYZPSZ",
    "outputId": "386e16ac-16ee-4624-cae8-cfd44cd4a521"
   },
   "outputs": [
    {
     "data": {
      "text/plain": [
       "['Pesbook', 'Twipper', 'Instagaram', 'Toktok']"
      ]
     },
     "execution_count": 2,
     "metadata": {},
     "output_type": "execute_result"
    }
   ],
   "source": [
    "label = dataset.iloc[:,0].tolist()\n",
    "label"
   ]
  },
  {
   "cell_type": "code",
   "execution_count": 3,
   "metadata": {},
   "outputs": [],
   "source": [
    "x = ['2016','2017','2018','2019','2020','2021']"
   ]
  },
  {
   "cell_type": "code",
   "execution_count": 4,
   "metadata": {
    "colab": {
     "base_uri": "https://localhost:8080/"
    },
    "id": "eS-_5koheQRh",
    "outputId": "3dcaf9ad-58d9-488f-bb5e-885c1dffa6d9"
   },
   "outputs": [
    {
     "data": {
      "text/plain": [
       "[3160621, 4972600, 6032192, 6238517, 7717739, 9267369]"
      ]
     },
     "execution_count": 4,
     "metadata": {},
     "output_type": "execute_result"
    }
   ],
   "source": [
    "y1 = dataset.iloc[0].values.tolist()\n",
    "y1 = y1[1:]\n",
    "y1"
   ]
  },
  {
   "cell_type": "code",
   "execution_count": 5,
   "metadata": {
    "colab": {
     "base_uri": "https://localhost:8080/"
    },
    "id": "lq8C164QgMeZ",
    "outputId": "3e677387-1d26-417f-f624-e0daa21e0693"
   },
   "outputs": [
    {
     "data": {
      "text/plain": [
       "[2690893, 3510296, 5410189, 6545644, 7267665, 8141159]"
      ]
     },
     "execution_count": 5,
     "metadata": {},
     "output_type": "execute_result"
    }
   ],
   "source": [
    "y2 = dataset.iloc[1].values.tolist()\n",
    "y2 = y2[1:]\n",
    "y2"
   ]
  },
  {
   "cell_type": "code",
   "execution_count": 6,
   "metadata": {
    "colab": {
     "base_uri": "https://localhost:8080/"
    },
    "id": "MqMYBBdkg5Ds",
    "outputId": "09e8ee70-160a-4f78-efc9-6c8c52aef9b1"
   },
   "outputs": [
    {
     "data": {
      "text/plain": [
       "[2595067, 3158446, 4869826, 5509957, 6340562, 8286373]"
      ]
     },
     "execution_count": 6,
     "metadata": {},
     "output_type": "execute_result"
    }
   ],
   "source": [
    "y3 = dataset.iloc[2].values.tolist()\n",
    "y3 = y3[1:]\n",
    "y3"
   ]
  },
  {
   "cell_type": "code",
   "execution_count": 7,
   "metadata": {
    "colab": {
     "base_uri": "https://localhost:8080/"
    },
    "id": "vUUjotf7g4mx",
    "outputId": "3e1a70d7-b1cd-4b29-c5c2-2df610bfc8a8"
   },
   "outputs": [
    {
     "data": {
      "text/plain": [
       "[1877529, 2398434, 4742585, 5527140, 7853293, 8644823]"
      ]
     },
     "execution_count": 7,
     "metadata": {},
     "output_type": "execute_result"
    }
   ],
   "source": [
    "y4 = dataset.iloc[3].values.tolist()\n",
    "y4 = y4[1:]\n",
    "y4"
   ]
  },
  {
   "cell_type": "code",
   "execution_count": 8,
   "metadata": {
    "colab": {
     "base_uri": "https://localhost:8080/",
     "height": 290
    },
    "id": "k8E4HGO_MwUT",
    "outputId": "b36a09ea-d70f-46a9-ad13-5c0ec0218947"
   },
   "outputs": [
    {
     "data": {
      "image/png": "[encoded data removed]",
      "text/plain": [
       "<Figure size 432x288 with 1 Axes>"
      ]
     },
     "metadata": {
      "needs_background": "light"
     },
     "output_type": "display_data"
    }
   ],
   "source": [
    "import matplotlib.pyplot as plt\n",
    "\n",
    "plt.xlabel(\"Tahun\")\n",
    "plt.ylabel(\"Jumlah Pengguna\")\n",
    "\n",
    "plt.plot(x, y1, color='blue', label=label[0])\n",
    "plt.plot(x, y2, color='lightblue', label=label[1])\n",
    "plt.plot(x, y3, color='pink', label=label[2])\n",
    "plt.plot(x, y4, color='black', label=label[3])\n",
    "plt.legend(loc=\"upper left\")\n",
    "\n",
    "plt.show()"
   ]
  }
 ],
 "metadata": {
  "colab": {
   "collapsed_sections": [],
   "name": "Visualisasi Pengguna Media Sosial Tahun 2016-2021.ipynb",
   "provenance": []
  },
  "kernelspec": {
   "display_name": "Python 3",
   "language": "python",
   "name": "python3"
  },
  "language_info": {
   "codemirror_mode": {
    "name": "ipython",
    "version": 3
   },
   "file_extension": ".py",
   "mimetype": "text/x-python",
   "name": "python",
   "nbconvert_exporter": "python",
   "pygments_lexer": "ipython3",
   "version": "3.8.8"
  }
 },
 "nbformat": 4,
 "nbformat_minor": 1
}
